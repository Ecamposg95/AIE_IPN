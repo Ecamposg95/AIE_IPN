{
 "cells": [
  {
   "cell_type": "code",
   "execution_count": null,
   "id": "ef8259f2-bc19-4c0a-a3fc-04ac2b320a41",
   "metadata": {},
   "outputs": [],
   "source": [
    "La regla parece ser:\n",
    "KB: (P ∧ ¬Q) → R"
   ]
  },
  {
   "cell_type": "code",
   "execution_count": null,
   "id": "d02d33dd-a473-46e9-8829-822db68f8287",
   "metadata": {},
   "outputs": [],
   "source": [
    "Donde:\n",
    "\n",
    "P: Es martes.\n",
    "Q: Está lloviendo.\n",
    "R: Harry sale a correr."
   ]
  },
  {
   "cell_type": "code",
   "execution_count": 1,
   "id": "d289da7b-2d83-44be-87f2-7422d27f0ec4",
   "metadata": {},
   "outputs": [
    {
     "name": "stdout",
     "output_type": "stream",
     "text": [
      " P     Q     R    | Resultado\n",
      "-----------------------------\n",
      "False  False  False  |   True\n",
      "False  False  True  |   True\n",
      "False  True  False  |   True\n",
      "False  True  True  |   True\n",
      "True  False  False  |   False\n",
      "True  False  True  |   True\n",
      "True  True  False  |   True\n",
      "True  True  True  |   True\n"
     ]
    }
   ],
   "source": [
    "import itertools\n",
    "\n",
    "# Frases y variables lógicas asignadas\n",
    "frases = {\n",
    "    \"Hoy es martes\": \"P\",\n",
    "    \"No está lloviendo\": \"¬Q\",  # Negación de Q\n",
    "    \"Harry sale a correr\": \"R\"\n",
    "}\n",
    "\n",
    "# Interpretación lógica de la frase completa (puedes ajustar esto según la frase)\n",
    "# En este ejemplo, es equivalente a la fórmula lógica: P ∧ ¬Q → R\n",
    "formula_logica = \"(P and not Q) <= R\"\n",
    "\n",
    "# Definir las variables posibles (True, False)\n",
    "valores = [False, True]\n",
    "\n",
    "# Generar todas las combinaciones posibles de valores de verdad para P, Q, R\n",
    "combinaciones = list(itertools.product(valores, repeat=3))\n",
    "\n",
    "# Función para evaluar la fórmula lógica\n",
    "def evaluar_formula(P, Q, R):\n",
    "    return eval(formula_logica)  # evalua la formula lógica\n",
    "\n",
    "# Mostrar la tabla de verdad con los resultados\n",
    "print(\" P     Q     R    | Resultado\")\n",
    "print(\"-----------------------------\")\n",
    "\n",
    "for combinacion in combinaciones:\n",
    "    P, Q, R = combinacion\n",
    "    resultado = evaluar_formula(P, Q, R)\n",
    "    print(f\"{P}  {Q}  {R}  |   {resultado}\")\n"
   ]
  },
  {
   "cell_type": "code",
   "execution_count": null,
   "id": "d6b3a41a-a53a-4d85-9368-3e8cb14ddea1",
   "metadata": {},
   "outputs": [],
   "source": []
  },
  {
   "cell_type": "code",
   "execution_count": 5,
   "id": "6b13e88c-faa7-43ac-b6d0-38614fcd3847",
   "metadata": {},
   "outputs": [
    {
     "name": "stdin",
     "output_type": "stream",
     "text": [
      "Ingresa la frase lógica:  Hoy es martes y no está lloviendo, por lo tanto Harry sale a correr\n"
     ]
    },
    {
     "name": "stdout",
     "output_type": "stream",
     "text": [
      "Fórmula lógica interpretada: P and notr está llorviendor, porr lor tantor R\n",
      "\n",
      "Tabla de verdad:\n",
      " P     Q     R    | Resultado\n",
      "------------------------------\n"
     ]
    },
    {
     "ename": "SyntaxError",
     "evalue": "invalid syntax (<string>, line 1)",
     "output_type": "error",
     "traceback": [
      "Traceback \u001b[1;36m(most recent call last)\u001b[0m:\n",
      "\u001b[0m  File \u001b[0;32mC:\\ProgramData\\anaconda3\\Lib\\site-packages\\IPython\\core\\interactiveshell.py:3577\u001b[0m in \u001b[0;35mrun_code\u001b[0m\n    exec(code_obj, self.user_global_ns, self.user_ns)\u001b[0m\n",
      "\u001b[0m  Cell \u001b[0;32mIn[5], line 46\u001b[0m\n    resultado = evaluar_formula(P, Q, R)\u001b[0m\n",
      "\u001b[1;36m  Cell \u001b[1;32mIn[5], line 37\u001b[1;36m in \u001b[1;35mevaluar_formula\u001b[1;36m\n\u001b[1;33m    return eval(formula_logica)  # Evalúa la fórmula lógica\u001b[1;36m\n",
      "\u001b[1;36m  File \u001b[1;32m<string>:1\u001b[1;36m\u001b[0m\n\u001b[1;33m    P and notr está llorviendor, porr lor tantor R\u001b[0m\n\u001b[1;37m               ^\u001b[0m\n\u001b[1;31mSyntaxError\u001b[0m\u001b[1;31m:\u001b[0m invalid syntax\n"
     ]
    }
   ],
   "source": [
    "import itertools\n",
    "\n",
    "# Diccionario de interpretación para frases comunes y operadores lógicos\n",
    "interpretacion_frases = {\n",
    "    \"Hoy es martes\": \"P\",\n",
    "    \"Está lloviendo\": \"Q\",\n",
    "    \"Harry sale a correr\": \"R\",\n",
    "    \"y\": \"and\",\n",
    "    \"o\": \"or\",\n",
    "    \"no\": \"not\",\n",
    "    \"por lo tanto\": \"=>\"\n",
    "}\n",
    "\n",
    "# Función para convertir la frase ingresada en una fórmula lógica\n",
    "def interpretar_frase(frase):\n",
    "    for palabra, simbolo in interpretacion_frases.items():\n",
    "        frase = frase.replace(palabra, simbolo)\n",
    "    # Cambiar el operador \"=>\" por implicación lógica <=\n",
    "    frase = frase.replace(\"=>\", \"<=\")\n",
    "    return frase\n",
    "\n",
    "# Pedir al usuario que ingrese la frase\n",
    "frase_usuario = input(\"Ingresa la frase lógica: \")\n",
    "\n",
    "# Interpretar la frase ingresada\n",
    "formula_logica = interpretar_frase(frase_usuario)\n",
    "print(f\"Fórmula lógica interpretada: {formula_logica}\")\n",
    "\n",
    "# Definir los posibles valores de P, Q, R (True y False)\n",
    "valores = [False, True]\n",
    "\n",
    "# Generar todas las combinaciones posibles de valores de verdad para P, Q, R\n",
    "combinaciones = list(itertools.product(valores, repeat=3))\n",
    "\n",
    "# Función para evaluar la fórmula lógica\n",
    "def evaluar_formula(P, Q, R):\n",
    "    return eval(formula_logica)  # Evalúa la fórmula lógica\n",
    "\n",
    "# Mostrar la tabla de verdad con los resultados\n",
    "print(\"\\nTabla de verdad:\")\n",
    "print(\" P     Q     R    | Resultado\")\n",
    "print(\"------------------------------\")\n",
    "\n",
    "for combinacion in combinaciones:\n",
    "    P, Q, R = combinacion\n",
    "    resultado = evaluar_formula(P, Q, R)\n",
    "    print(f\"{P}  {Q}  {R}  |   {resultado}\")\n"
   ]
  },
  {
   "cell_type": "code",
   "execution_count": null,
   "id": "0b34e7e8-b9c7-4918-8edc-0b39133f9b51",
   "metadata": {},
   "outputs": [],
   "source": []
  }
 ],
 "metadata": {
  "kernelspec": {
   "display_name": "Python 3 (ipykernel)",
   "language": "python",
   "name": "python3"
  },
  "language_info": {
   "codemirror_mode": {
    "name": "ipython",
    "version": 3
   },
   "file_extension": ".py",
   "mimetype": "text/x-python",
   "name": "python",
   "nbconvert_exporter": "python",
   "pygments_lexer": "ipython3",
   "version": "3.12.4"
  }
 },
 "nbformat": 4,
 "nbformat_minor": 5
}
