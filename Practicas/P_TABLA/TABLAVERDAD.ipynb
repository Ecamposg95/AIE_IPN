{
 "cells": [
  {
   "cell_type": "markdown",
   "id": "fff30971-a4fe-4958-aff0-22495acd5a66",
   "metadata": {},
   "source": [
    "La regla parece ser:\n",
    "KB: (P ∧ ¬Q) → R"
   ]
  },
  {
   "cell_type": "markdown",
   "id": "f743f996-fd08-4da2-a035-dccdb735c29c",
   "metadata": {},
   "source": [
    "Donde:\n",
    "\n",
    "P: Es martes.\n",
    "Q: Está lloviendo.\n",
    "R: Harry sale a correr."
   ]
  },
  {
   "cell_type": "code",
   "execution_count": 1,
   "id": "d289da7b-2d83-44be-87f2-7422d27f0ec4",
   "metadata": {},
   "outputs": [
    {
     "name": "stdout",
     "output_type": "stream",
     "text": [
      " P     Q     R    | Resultado\n",
      "-----------------------------\n",
      "False  False  False  |   True\n",
      "False  False  True  |   True\n",
      "False  True  False  |   True\n",
      "False  True  True  |   True\n",
      "True  False  False  |   False\n",
      "True  False  True  |   True\n",
      "True  True  False  |   True\n",
      "True  True  True  |   True\n"
     ]
    }
   ],
   "source": [
    "import itertools\n",
    "\n",
    "# Frases y variables lógicas asignadas\n",
    "frases = {\n",
    "    \"Hoy es martes\": \"P\",\n",
    "    \"No está lloviendo\": \"¬Q\",  # Negación de Q\n",
    "    \"Harry sale a correr\": \"R\"\n",
    "}\n",
    "\n",
    "# Interpretación lógica de la frase completa (puedes ajustar esto según la frase)\n",
    "# En este ejemplo, es equivalente a la fórmula lógica: P ∧ ¬Q → R\n",
    "formula_logica = \"(P and not Q) <= R\"\n",
    "\n",
    "# Definir las variables posibles (True, False)\n",
    "valores = [False, True]\n",
    "\n",
    "# Generar todas las combinaciones posibles de valores de verdad para P, Q, R\n",
    "combinaciones = list(itertools.product(valores, repeat=3))\n",
    "\n",
    "# Función para evaluar la fórmula lógica\n",
    "def evaluar_formula(P, Q, R):\n",
    "    return eval(formula_logica)  # evalua la formula lógica\n",
    "\n",
    "# Mostrar la tabla de verdad con los resultados\n",
    "print(\" P     Q     R    | Resultado\")\n",
    "print(\"-----------------------------\")\n",
    "\n",
    "for combinacion in combinaciones:\n",
    "    P, Q, R = combinacion\n",
    "    resultado = evaluar_formula(P, Q, R)\n",
    "    print(f\"{P}  {Q}  {R}  |   {resultado}\")\n"
   ]
  },
  {
   "cell_type": "code",
   "execution_count": null,
   "id": "d6b3a41a-a53a-4d85-9368-3e8cb14ddea1",
   "metadata": {},
   "outputs": [],
   "source": []
  },
  {
   "cell_type": "code",
   "execution_count": 4,
   "id": "f00ce503-0b8b-4767-a061-1952689b95f4",
   "metadata": {},
   "outputs": [
    {
     "name": "stdout",
     "output_type": "stream",
     "text": [
      "x\t y\t x or y\n",
      "----------------------\n",
      "False\tFalse\tFalse\n",
      "False\tTrue\tTrue\n",
      "True\tFalse\tTrue\n",
      "True\tTrue\tTrue\n",
      "\n",
      "x\t y\t x and y\n",
      "----------------------\n",
      "False\tFalse\tFalse\n",
      "False\tTrue\tFalse\n",
      "True\tFalse\tFalse\n",
      "True\tTrue\tTrue\n",
      "\n",
      "x\t not x\n",
      "-------------\n",
      "False\tTrue\n",
      "True\tFalse\n",
      "\n",
      "x\t y\t x ^ y\n",
      "----------------------\n",
      "False\tFalse\tFalse\n",
      "False\tTrue\tTrue\n",
      "True\tFalse\tTrue\n",
      "True\tTrue\tFalse\n",
      "\n",
      "x\t y\t x => y\n",
      "----------------------\n",
      "False\tFalse\tTrue\n",
      "False\tTrue\tTrue\n",
      "True\tFalse\tFalse\n",
      "True\tTrue\tTrue\n",
      "\n",
      "x\t y\t x <=> y\n",
      "----------------------\n",
      "False\tFalse\tTrue\n",
      "False\tTrue\tFalse\n",
      "True\tFalse\tFalse\n",
      "True\tTrue\tTrue\n",
      "\n"
     ]
    }
   ],
   "source": [
    "# Lista de valores booleanos\n",
    "booleanos = [False, True]\n",
    "\n",
    "# Tabla de verdad para OR\n",
    "print('x\\t y\\t x or y')\n",
    "print('-' * 22)\n",
    "for x in booleanos:\n",
    "    for y in booleanos:\n",
    "        print(f'{x}\\t{y}\\t{x or y}')\n",
    "print()\n",
    "\n",
    "# Tabla de verdad para AND\n",
    "print('x\\t y\\t x and y')\n",
    "print('-' * 22)\n",
    "for x in booleanos:\n",
    "    for y in booleanos:\n",
    "        print(f'{x}\\t{y}\\t{x and y}')\n",
    "print()\n",
    "\n",
    "# Tabla de verdad para NOT\n",
    "print('x\\t not x')\n",
    "print('-' * 13)\n",
    "for x in booleanos:\n",
    "    print(f'{x}\\t{not x}')\n",
    "print()\n",
    "\n",
    "# Tabla de verdad para XOR (disyunción exclusiva)\n",
    "print('x\\t y\\t x ^ y')\n",
    "print('-' * 22)\n",
    "for x in booleanos:\n",
    "    for y in booleanos:\n",
    "        print(f'{x}\\t{y}\\t{x ^ y}')\n",
    "print()\n",
    "\n",
    "# Tabla de verdad para implicación (x => y)\n",
    "# La implicación es falsa solo cuando x es True y y es False\n",
    "print('x\\t y\\t x => y')\n",
    "print('-' * 22)\n",
    "for x in booleanos:\n",
    "    for y in booleanos:\n",
    "        implicacion = (not x) or y  # Equivalente a \"no x o y\"\n",
    "        print(f'{x}\\t{y}\\t{implicacion}')\n",
    "print()\n",
    "\n",
    "# Tabla de verdad para bicondicional (x <=> y)\n",
    "# El bicondicional es verdadero si ambos valores son iguales\n",
    "print('x\\t y\\t x <=> y')\n",
    "print('-' * 22)\n",
    "for x in booleanos:\n",
    "    for y in booleanos:\n",
    "        bicondicional = x == y  # Verdadero si ambos son iguales\n",
    "        print(f'{x}\\t{y}\\t{bicondicional}')\n",
    "print()\n"
   ]
  },
  {
   "cell_type": "code",
   "execution_count": null,
   "id": "f746adf3-c09e-48ba-aa27-e5a1f826e68b",
   "metadata": {},
   "outputs": [],
   "source": []
  }
 ],
 "metadata": {
  "kernelspec": {
   "display_name": "Python 3 (ipykernel)",
   "language": "python",
   "name": "python3"
  },
  "language_info": {
   "codemirror_mode": {
    "name": "ipython",
    "version": 3
   },
   "file_extension": ".py",
   "mimetype": "text/x-python",
   "name": "python",
   "nbconvert_exporter": "python",
   "pygments_lexer": "ipython3",
   "version": "3.12.4"
  }
 },
 "nbformat": 4,
 "nbformat_minor": 5
}
