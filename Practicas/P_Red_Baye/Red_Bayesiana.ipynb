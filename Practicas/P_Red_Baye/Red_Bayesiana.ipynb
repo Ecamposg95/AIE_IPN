{
 "cells": [
  {
   "cell_type": "markdown",
   "id": "c3d8e8fd-05f9-448b-b107-ad4fcf04f6c2",
   "metadata": {},
   "source": [
    "# Documentación: Red Bayesiana\n",
    "\n",
    "Este notebook demuestra el uso de una red bayesiana con `pgmpy`. La red creada analiza la probabilidad de que el césped esté mojado, considerando dos variables de entrada: lluvia y activación del aspersor.\n",
    "\n",
    "## Fundamentos Matemáticos\n",
    "\n",
    "Una **red bayesiana** es un modelo probabilístico que representa relaciones de dependencia condicional entre variables mediante el **teorema de Bayes**. Matemáticamente, se estructura como un gráfico dirigido acíclico (DAG) donde:\n",
    "\n",
    "- Cada **nodo** es una **variable aleatoria**.\n",
    "- Cada **arista** representa una **dependencia directa** entre variables.\n",
    "- Cada nodo tiene una **tabla de probabilidad condicional** (CPD), que define la probabilidad del nodo dado sus \"padres\" (variables de las cuales depende).\n",
    "\n",
    "### Ejemplo de Dependencia Condicional en el Modelo\n",
    "\n",
    "Para nuestro modelo `a -> c` y `b -> c`, tenemos:\n",
    "\n",
    "1. **Lluvia (`a`)** y **Aspersor (`b`)** como variables independientes.\n",
    "2. **Césped mojado (`c`)** depende de los valores de `a` y `b`.\n",
    "\n",
    "En términos matemáticos, podemos expresar el modelo como:\n",
    "\n",
    "\\[\n",
    "P(c, a, b) = P(a) \\cdot P(b) \\cdot P(c | a, b)\n",
    "\\]\n",
    "\n",
    "donde:\n",
    "- \\( P(a) \\) y \\( P(b) \\) son probabilidades individuales de `lluvia` y `aspersor`.\n",
    "- \\( P(c | a, b) \\) es la probabilidad condicional de `césped mojado`, dado el estado de `lluvia` y `aspersor`.\n",
    "\n",
    "### Inferencia en la Red Bayesiana\n",
    "\n",
    "Para responder preguntas, como `P(c=1 | a=1, b=0)`, la red usa el **Teorema de Bayes**:\n",
    "\n",
    "\\[\n",
    "P(c | a, b) = \\frac{P(a, b, c)}{P(a, b)}\n",
    "\\]\n",
    "\n",
    "La biblioteca `pgmpy` maneja estos cálculos usando métodos de inferencia como **eliminación de variables** o **inferencia por enumeración**.\n",
    "\n",
    "## Ejemplos Adicionales para Aplicar el Modelo\n",
    "\n",
    "A continuación, presentamos algunos casos adicionales que puedes probar, adaptados a diferentes contextos.\n",
    "\n",
    "### 1. Diagnóstico Médico\n",
    "\n",
    "- **Nodos**:\n",
    "  - `Enfermedad (D)` (Sí o No)\n",
    "  - `Fiebre (F)` (Sí o No)\n",
    "  - `Dolor de Cabeza (H)` (Sí o No)\n",
    "- **Relaciones**:\n",
    "  - `D -> F`\n",
    "  - `D -> H`\n",
    "- **Consulta de Ejemplo**:\n",
    "  - `P(D | F=1, H=1)`: Probabilidad de tener la enfermedad dado que hay fiebre y dolor de cabeza.\n",
    "\n",
    "Este ejemplo permite inferir la probabilidad de tener una enfermedad en función de los síntomas.\n",
    "\n",
    "### 2. Fallo en un Sistema de Red\n",
    "\n",
    "- **Nodos**:\n",
    "  - `Fallo en el Servidor (S)` (Sí o No)\n",
    "  - `Fallo de Red (N)` (Sí o No)\n",
    "  - `Problema de Usuario (U)` (Sí o No)\n",
    "- **Relaciones**:\n",
    "  - `S -> N`\n",
    "  - `U -> N`\n",
    "- **Consulta de Ejemplo**:\n",
    "  - `P(S | N=1, U=0)`: Probabilidad de fallo en el servidor dado que hay un fallo de red y el usuario no reporta problemas.\n",
    "\n",
    "Este modelo puede ayudar a identificar la causa probable de un fallo en un sistema de red.\n",
    "\n",
    "### 3. Riesgo de Accidente en Carretera\n",
    "\n",
    "- **Nodos**:\n",
    "  - `Condiciones del Clima (C)` (Buenas o Malas)\n",
    "  - `Tráfico (T)` (Alto o Bajo)\n",
    "  - `Accidente (A)` (Sí o No)\n",
    "- **Relaciones**:\n",
    "  - `C -> A`\n",
    "  - `T -> A`\n",
    "- **Consulta de Ejemplo**:\n",
    "  - `P(A | C=1, T=0)`: Probabilidad de un accidente dado que las condiciones climáticas son malas y el tráfico es bajo.\n",
    "\n",
    "Este modelo puede ser útil para analizar el riesgo de accidentes en función de factores como el clima y el tráfico.\n",
    "\n",
    "---\n",
    "\n",
    "Cada ejemplo sigue la misma estructura y principios de una red bayesiana, permitiendo consultas y cálculos de probabilidades condicionadas, similares al ejemplo inicial con `lluvia`, `aspersor` y `césped mojado`.\n"
   ]
  },
  {
   "cell_type": "code",
   "execution_count": 3,
   "id": "86c39855",
   "metadata": {},
   "outputs": [],
   "source": [
    "\n",
    "# Importamos las bibliotecas necesarias\n",
    "from pgmpy.models import BayesianNetwork\n",
    "from pgmpy.factors.discrete import TabularCPD\n",
    "from pgmpy.inference import VariableElimination\n",
    "import json\n",
    "import networkx as nx\n",
    "import matplotlib.pyplot as plt\n"
   ]
  },
  {
   "cell_type": "code",
   "execution_count": 4,
   "id": "50d30f39",
   "metadata": {},
   "outputs": [],
   "source": [
    "\n",
    "# Función para crear una red bayesiana\n",
    "def crear_red_bayesiana():\n",
    "    # Crear una red bayesiana vacía\n",
    "    red = BayesianNetwork()\n",
    "    \n",
    "    # Agregar nodos (usaremos 'a' = lluvia, 'b' = aspersor, 'c' = césped mojado)\n",
    "    red.add_nodes_from(['a', 'b', 'c'])\n",
    "    \n",
    "    # Definir las relaciones entre los nodos\n",
    "    red.add_edges_from([('a', 'c'), ('b', 'c')])\n",
    "\n",
    "    # Definir las tablas de probabilidad condicional (CPDs)\n",
    "    cpd_a = TabularCPD(variable='a', variable_card=2, values=[[0.8], [0.2]])\n",
    "    cpd_b = TabularCPD(variable='b', variable_card=2, values=[[0.5], [0.5]])\n",
    "    cpd_c = TabularCPD(\n",
    "        variable='c', variable_card=2, \n",
    "        values=[[0.99, 0.9, 0.9, 0], [0.01, 0.1, 0.1, 1]], \n",
    "        evidence=['a', 'b'], evidence_card=[2, 2]\n",
    "    )\n",
    "\n",
    "    # Añadir CPDs a la red\n",
    "    red.add_cpds(cpd_a, cpd_b, cpd_c)\n",
    "    \n",
    "    # Verificar la red\n",
    "    if red.check_model():\n",
    "        print(\"Red bayesiana creada exitosamente.\")\n",
    "    else:\n",
    "        print(\"La red no es válida.\")\n",
    "    \n",
    "    return red\n",
    "\n",
    "# Función para visualizar la red\n",
    "def visualizar_red(red):\n",
    "    plt.figure(figsize=(8, 5))\n",
    "    grafo = nx.DiGraph()\n",
    "    grafo.add_edges_from(red.edges())\n",
    "    nx.draw_networkx(grafo, with_labels=True, node_size=2000, font_size=10)\n",
    "    plt.title(\"Estructura de la Red Bayesiana\")\n",
    "    plt.show()\n"
   ]
  },
  {
   "cell_type": "code",
   "execution_count": 7,
   "id": "b950c622",
   "metadata": {},
   "outputs": [
    {
     "name": "stdout",
     "output_type": "stream",
     "text": [
      "Red bayesiana creada exitosamente.\n"
     ]
    },
    {
     "data": {
      "image/png": "[encoded data removed]",
      "text/plain": [
       "<Figure size 800x500 with 1 Axes>"
      ]
     },
     "metadata": {},
     "output_type": "display_data"
    }
   ],
   "source": [
    "\n",
    "# Crear y visualizar la red\n",
    "red = crear_red_bayesiana()\n",
    "visualizar_red(red)\n"
   ]
  },
  {
   "cell_type": "code",
   "execution_count": 9,
   "id": "981a948d",
   "metadata": {},
   "outputs": [
    {
     "name": "stdout",
     "output_type": "stream",
     "text": [
      "Red bayesiana guardada en red_bayesiana.json\n"
     ]
    }
   ],
   "source": [
    "\n",
    "# Función para guardar la red bayesiana\n",
    "def guardar_red_bayesiana(red, filename='red_bayesiana.json'):\n",
    "    data = {\n",
    "        \"edges\": list(red.edges()),\n",
    "        \"cpds\": []\n",
    "    }\n",
    "    for cpd in red.get_cpds():\n",
    "        cpd_data = {\n",
    "            \"variable\": cpd.variable,\n",
    "            \"variable_card\": int(cpd.variable_card),\n",
    "            \"values\": cpd.get_values().tolist(),\n",
    "            \"evidence\": list(cpd.variables[1:]),\n",
    "            \"evidence_card\": list(map(int, cpd.cardinality[1:]))\n",
    "        }\n",
    "        data[\"cpds\"].append(cpd_data)\n",
    "    \n",
    "    with open(filename, \"w\") as file:\n",
    "        json.dump(data, file)\n",
    "    print(f\"Red bayesiana guardada en {filename}\")\n",
    "\n",
    "# Guardar la red en un archivo JSON\n",
    "guardar_red_bayesiana(red)\n"
   ]
  },
  {
   "cell_type": "code",
   "execution_count": 11,
   "id": "4f473fd7",
   "metadata": {},
   "outputs": [
    {
     "name": "stdout",
     "output_type": "stream",
     "text": [
      "Red bayesiana cargada exitosamente.\n"
     ]
    },
    {
     "data": {
      "image/png": "[encoded data removed]",
      "text/plain": [
       "<Figure size 800x500 with 1 Axes>"
      ]
     },
     "metadata": {},
     "output_type": "display_data"
    }
   ],
   "source": [
    "\n",
    "# Función para cargar la red bayesiana desde un archivo JSON\n",
    "def cargar_red_bayesiana(filename='red_bayesiana.json'):\n",
    "    with open(filename, \"r\") as file:\n",
    "        data = json.load(file)\n",
    "\n",
    "    red = BayesianNetwork()\n",
    "    red.add_edges_from(data[\"edges\"])\n",
    "    \n",
    "    cpds = []\n",
    "    for cpd_data in data[\"cpds\"]:\n",
    "        cpd = TabularCPD(\n",
    "            variable=cpd_data[\"variable\"],\n",
    "            variable_card=cpd_data[\"variable_card\"],\n",
    "            values=cpd_data[\"values\"],\n",
    "            evidence=cpd_data[\"evidence\"],\n",
    "            evidence_card=cpd_data[\"evidence_card\"]\n",
    "        )\n",
    "        cpds.append(cpd)\n",
    "\n",
    "    red.add_cpds(*cpds)\n",
    "    if red.check_model():\n",
    "        print(\"Red bayesiana cargada exitosamente.\")\n",
    "        return red\n",
    "    else:\n",
    "        print(\"La red cargada no es válida.\")\n",
    "        return None\n",
    "\n",
    "# Cargar la red desde un archivo JSON y visualizarla\n",
    "red_cargada = cargar_red_bayesiana()\n",
    "visualizar_red(red_cargada)\n"
   ]
  },
  {
   "cell_type": "code",
   "execution_count": 13,
   "id": "5310f59a",
   "metadata": {},
   "outputs": [
    {
     "name": "stdout",
     "output_type": "stream",
     "text": [
      "Consulta sin evidencia: Probabilidad de c (césped mojado)\n",
      "+------+----------+\n",
      "| c    |   phi(c) |\n",
      "+======+==========+\n",
      "| c(0) |   0.8460 |\n",
      "+------+----------+\n",
      "| c(1) |   0.1540 |\n",
      "+------+----------+\n",
      "\n",
      "Consulta con evidencia: Probabilidad de c dado que a=1 y b=0\n",
      "+------+----------+\n",
      "| c    |   phi(c) |\n",
      "+======+==========+\n",
      "| c(0) |   0.9000 |\n",
      "+------+----------+\n",
      "| c(1) |   0.1000 |\n",
      "+------+----------+\n"
     ]
    }
   ],
   "source": [
    "\n",
    "# Función para realizar una inferencia en la red\n",
    "def inferir_probabilidades(red, consulta, evidencia=None):\n",
    "    infer = VariableElimination(red)\n",
    "    if evidencia:\n",
    "        resultado = infer.query(variables=[consulta], evidence=evidencia)\n",
    "    else:\n",
    "        resultado = infer.query(variables=[consulta])\n",
    "    print(resultado)\n",
    "\n",
    "# Ejemplos de inferencia\n",
    "print(\"Consulta sin evidencia: Probabilidad de c (césped mojado)\")\n",
    "inferir_probabilidades(red, 'c')\n",
    "\n",
    "print(\"\\nConsulta con evidencia: Probabilidad de c dado que a=1 y b=0\")\n",
    "inferir_probabilidades(red, 'c', evidencia={'a': 1, 'b': 0})\n"
   ]
  },
  {
   "cell_type": "code",
   "execution_count": null,
   "id": "49094dfd-4aa2-409a-9264-b14338bd6dbb",
   "metadata": {},
   "outputs": [],
   "source": []
  }
 ],
 "metadata": {
  "kernelspec": {
   "display_name": "Python 3 (ipykernel)",
   "language": "python",
   "name": "python3"
  },
  "language_info": {
   "codemirror_mode": {
    "name": "ipython",
    "version": 3
   },
   "file_extension": ".py",
   "mimetype": "text/x-python",
   "name": "python",
   "nbconvert_exporter": "python",
   "pygments_lexer": "ipython3",
   "version": "3.12.4"
  }
 },
 "nbformat": 4,
 "nbformat_minor": 5
}
